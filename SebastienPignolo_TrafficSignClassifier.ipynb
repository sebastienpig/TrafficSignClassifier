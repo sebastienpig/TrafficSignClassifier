{
 "cells": [
  {
   "cell_type": "markdown",
   "metadata": {},
   "source": [
    "# Self-Driving Car Engineer Nanodegree\n",
    "\n",
    "## Deep Learning\n",
    "\n",
    "## Project: Build a Traffic Sign Recognition Classifier\n"
   ]
  },
  {
   "cell_type": "markdown",
   "metadata": {},
   "source": [
    "---\n",
    "## Step 0: Load The Data"
   ]
  },
  {
   "cell_type": "code",
   "execution_count": 2,
   "metadata": {
    "collapsed": false
   },
   "outputs": [
    {
     "name": "stdout",
     "output_type": "stream",
     "text": [
      " Size of X_train is 34799 labels is 34799\n",
      " X_train Labels are [41 41 41 ..., 25 25 25]\n",
      " Size of X_test is 12630 labels is 12630\n",
      " X_test Labels are [16  1 38 ...,  6  7 10]\n"
     ]
    }
   ],
   "source": [
    "import numpy as np\n",
    "import tensorflow as tf\n",
    "import time\n",
    "import matplotlib.pyplot as plt\n",
    "import matplotlib.image as mpimg\n",
    "import os\n",
    "import pandas as pd\n",
    "import random\n",
    "\n",
    "# sklearn imports to shuffle and split data\n",
    "from sklearn.utils import shuffle\n",
    "from sklearn.model_selection import train_test_split\n",
    "\n",
    "#import to flatten\n",
    "from tensorflow.contrib.layers import flatten\n",
    "\n",
    "# Load pickled data\n",
    "import pickle\n",
    "\n",
    "# defining a dictionary of signs, easier than class number to diagnose\n",
    "\n",
    "sign_dictionary ={'0': 'Speed limit (20km/h)',\n",
    "'1':'Speed limit (30km/h)',\n",
    "'2':'Speed limit (50km/h)',\n",
    "'3':'Speed limit (60km/h)',\n",
    "'4':'Speed limit (70km/h)',\n",
    "'5':'Speed limit (80km/h)',\n",
    "'6':'End of speed limit (80km/h)',\n",
    "'7':'Speed limit (100km/h)',\n",
    "'8':'Speed limit (120km/h)',\n",
    "'9':'No passing',\n",
    "'10':'No passing for vehicles over 3.5 metric tons',\n",
    "'11':'Right-of-way at the next intersection',\n",
    "'12':'Priority road',\n",
    "'13':'Yield',\n",
    "'14':'Stop',\n",
    "'15':'No vehicles',\n",
    "'16':'Vehicles over 3.5 metric tons prohibited',\n",
    "'17':'No entry',\n",
    "'18':'General caution',\n",
    "'19':'Dangerous curve to the left',\n",
    "'20':'Dangerous curve to the right',\n",
    "'21':'Double curve',\n",
    "'22':'Bumpy road',\n",
    "'23':'Slippery road',\n",
    "'24':'Road narrows on the right',\n",
    "'25':'Road work',\n",
    "'26':'Traffic signals',\n",
    "'27':'Pedestrians',\n",
    "'28':'Children crossing',\n",
    "'29':'Bicycles crossing',\n",
    "'30':'Beware of ice/snow',\n",
    "'31':'Wild animals crossing',\n",
    "'32':'End of all speed and passing limits',\n",
    "'33':'Turn right ahead',\n",
    "'34':'Turn left ahead',\n",
    "'35':'Ahead only',\n",
    "'36':'Go straight or right',\n",
    "'37':'Go straight or left',\n",
    "'38':'Keep right',\n",
    "'39':'Keep left',\n",
    "'40':'Roundabout mandatory',\n",
    "'41':'End of no passing',\n",
    "'42':'End of no passing by vehicles over 3.5 metric tons'}\n",
    "\n",
    "# Fill this in based on where you saved the training and testing data\n",
    "\n",
    "training_file = \"traffic-signs-data/train.p\"\n",
    "testing_file = \"traffic-signs-data/test.p\"\n",
    "\n",
    "with open(training_file, mode='rb') as ftrain:\n",
    "    train = pickle.load(ftrain)\n",
    "with open(testing_file, mode='rb') as ftest:\n",
    "    test = pickle.load(ftest)\n",
    "    \n",
    "X_train, y_train = train['features'], train['labels']\n",
    "X_test, y_test = test['features'], test['labels']\n",
    "\n",
    "print (\" Size of X_train is %d labels is %d\" %(len(X_train), len(y_train)))\n",
    "print (\" X_train Labels are\", train['labels'])\n",
    "print (\" Size of X_test is %d labels is %d\" %(len(X_test), len(y_test)))\n",
    "print (\" X_test Labels are\", test['labels'])"
   ]
  },
  {
   "cell_type": "markdown",
   "metadata": {},
   "source": [
    "---\n",
    "\n",
    "## Step 1: Dataset Summary & Exploration\n",
    "\n",
    "The pickled data is a dictionary with 4 key/value pairs:\n",
    "\n",
    "- `'features'` is a 4D array containing raw pixel data of the traffic sign images, (num examples, width, height, channels).\n",
    "- `'labels'` is a 1D array containing the label/class id of the traffic sign. The file `signnames.csv` contains id -> name mappings for each id.\n",
    "- `'sizes'` is a list containing tuples, (width, height) representing the the original width and height the image.\n",
    "- `'coords'` is a list containing tuples, (x1, y1, x2, y2) representing coordinates of a bounding box around the sign in the image. <br>\n",
    "**THESE COORDINATES ASSUME THE ORIGINAL IMAGE. THE PICKLED DATA CONTAINS RESIZED VERSIONS (32 by 32) OF THESE IMAGES**\n",
    "\n",
    "Complete the basic data summary below. Use python, numpy and/or pandas methods to calculate the data summary rather than hard coding the results. For example, the [pandas shape method](http://pandas.pydata.org/pandas-docs/stable/generated/pandas.DataFrame.shape.html) might be useful for calculating some of the summary results. "
   ]
  },
  {
   "cell_type": "markdown",
   "metadata": {},
   "source": [
    "### Provide a Basic Summary of the Data Set Using Python, Numpy and/or Pandas"
   ]
  },
  {
   "cell_type": "code",
   "execution_count": 3,
   "metadata": {
    "collapsed": false
   },
   "outputs": [
    {
     "name": "stdout",
     "output_type": "stream",
     "text": [
      "Number of training examples = 34799\n",
      "Number of testing examples = 12630\n",
      "Number of classes = 43\n",
      "Image data shape = (32, 32, 3)\n"
     ]
    }
   ],
   "source": [
    "### Replace each question mark with the appropriate value. \n",
    "### Use python, pandas or numpy methods rather than hard coding the results\n",
    "\n",
    "# Number of training examples\n",
    "n_train = len(X_train)\n",
    "\n",
    "# Number of testing examples\n",
    "n_test = len(X_test)\n",
    "\n",
    "# Checking that we have as many labels as data\n",
    "assert(len(X_train)== len(y_train))\n",
    "assert(len(X_test)== len(y_test))\n",
    "\n",
    "# The shape of a traffic sign image: It returns a tuple of number of rows, columns and channels\n",
    "image_shape = X_train[0].shape\n",
    "\n",
    "# Unique classes/labels in the dataset:\n",
    "# First we remove duplicates then we count\n",
    "n_classes = len(set(y_train))\n",
    "\n",
    "print(\"Number of training examples =\", n_train)\n",
    "print(\"Number of testing examples =\", n_test)\n",
    "print(\"Number of classes =\", n_classes)\n",
    "print(\"Image data shape =\", image_shape)\n",
    "\n",
    "if (image_shape[0]!=32):\n",
    "    print (\"RESIZE NEEDED!! LeNET takes in input 32x32 pixels images\")\n"
   ]
  },
  {
   "cell_type": "markdown",
   "metadata": {},
   "source": [
    "### Include an exploratory visualization of the dataset"
   ]
  },
  {
   "cell_type": "markdown",
   "metadata": {},
   "source": [
    "Visualize the German Traffic Signs Dataset using the pickled file(s). This is open ended, suggestions include: plotting traffic sign images, plotting the count of each sign, etc.\n",
    "\n",
    "The [Matplotlib](http://matplotlib.org/) [examples](http://matplotlib.org/examples/index.html) and [gallery](http://matplotlib.org/gallery.html) pages are a great resource for doing visualizations in Python.\n",
    "\n",
    "**NOTE:** It's recommended you start with something simple first. If you wish to do more, come back to it after you've completed the rest of the sections."
   ]
  },
  {
   "cell_type": "code",
   "execution_count": 4,
   "metadata": {
    "collapsed": false
   },
   "outputs": [
    {
     "name": "stdout",
     "output_type": "stream",
     "text": [
      " VISUALIZING TRAINING SET\n",
      "index 2 is Speed limit (50km/h)\n",
      "index 3 is Speed limit (60km/h)\n",
      "index 11 is Right-of-way at the next intersection\n",
      "index 11 is Right-of-way at the next intersection\n",
      "index 2 is Speed limit (50km/h)\n",
      "index 11 is Right-of-way at the next intersection\n",
      "index 17 is No entry\n",
      "index 4 is Speed limit (70km/h)\n",
      "index 23 is Slippery road\n",
      "index 35 is Ahead only\n",
      "index 40 is Roundabout mandatory\n",
      "index 14 is Stop\n",
      "index 25 is Road work\n",
      "index 12 is Priority road\n",
      "index 4 is Speed limit (70km/h)\n",
      "index 15 is No vehicles\n"
     ]
    },
    {
     "data": {
      "image/png": "[encoded data removed]",
      "text/plain": [
       "<matplotlib.figure.Figure at 0xcc56be0>"
      ]
     },
     "metadata": {},
     "output_type": "display_data"
    }
   ],
   "source": [
    "# Visualizing randomly 16 images from the training set\n",
    "\n",
    "print (\" VISUALIZING TRAINING SET\")\n",
    "for i in range(16):\n",
    "    plt.subplot(2,8,i+1)\n",
    "    index = random.randint(0,n_train)\n",
    "    plt.imshow(X_train[index])\n",
    "    plt.xlabel(y_train[index])\n",
    "    str_index=str(y_train[index])\n",
    "    print (\"index %s is %s\" %(str_index, sign_dictionary[str_index]))\n",
    "    \n",
    "plt.show()    "
   ]
  },
  {
   "cell_type": "code",
   "execution_count": 5,
   "metadata": {
    "collapsed": false
   },
   "outputs": [
    {
     "name": "stdout",
     "output_type": "stream",
     "text": [
      " VISUALIZING TESTING SET\n",
      "index 0 is Speed limit (20km/h)\n",
      "index 38 is Keep right\n",
      "index 9 is No passing\n",
      "index 5 is Speed limit (80km/h)\n"
     ]
    },
    {
     "data": {
      "image/png": "[encoded data removed]",
      "text/plain": [
       "<matplotlib.figure.Figure at 0xd921240>"
      ]
     },
     "metadata": {},
     "output_type": "display_data"
    }
   ],
   "source": [
    "# Visualizing randomly 4 images from the test set\n",
    "\n",
    "print (\" VISUALIZING TESTING SET\")\n",
    "for i in range(4):\n",
    "    plt.subplot(2,4,i+1)\n",
    "    index = random.randint(0,n_test)\n",
    "    plt.imshow(X_test[index])\n",
    "    plt.xlabel(y_test[index])\n",
    "    str_index=str(y_test[index])\n",
    "    print (\"index %s is %s\" %(str_index, sign_dictionary[str_index]))\n",
    "\n",
    "plt.show()    "
   ]
  },
  {
   "cell_type": "code",
   "execution_count": 6,
   "metadata": {
    "collapsed": false
   },
   "outputs": [
    {
     "data": {
      "image/png": "[encoded data removed]",
      "text/plain": [
       "<matplotlib.figure.Figure at 0xcc56668>"
      ]
     },
     "metadata": {},
     "output_type": "display_data"
    }
   ],
   "source": [
    "# plotting the count of each sign is equivalent to plot get a frequency graph (if labelling is correct)\n",
    "\n",
    "# Define colormap for graph\n",
    "cm = plt.cm.get_cmap('RdYlBu_r')\n",
    "\n",
    "plt.hist(y_train, n_classes, color='green')\n",
    "\n",
    "plt.title('Plotting the count of each sign based on their class')\n",
    "plt.xlabel('Sign')\n",
    "plt.ylabel('Distinct Count')\n",
    "plt.plot()\n",
    "\n",
    "plt.show()\n",
    "\n",
    "# Some classes are unde represented"
   ]
  },
  {
   "cell_type": "markdown",
   "metadata": {},
   "source": [
    "----\n",
    "\n",
    "## Step 2: Design and Test a Model Architecture\n",
    "\n",
    "Design and implement a deep learning model that learns to recognize traffic signs. Train and test your model on the [German Traffic Sign Dataset](http://benchmark.ini.rub.de/?section=gtsrb&subsection=dataset).\n",
    "\n",
    "There are various aspects to consider when thinking about this problem:\n",
    "\n",
    "- Neural network architecture\n",
    "- Play around preprocessing techniques (normalization, rgb to grayscale, etc)\n",
    "- Number of examples per label (some have more than others).\n",
    "- Generate fake data.\n",
    "\n",
    "Here is an example of a [published baseline model on this problem](http://yann.lecun.com/exdb/publis/pdf/sermanet-ijcnn-11.pdf). It's not required to be familiar with the approach used in the paper but, it's good practice to try to read papers like these.\n",
    "\n",
    "**NOTE:** The LeNet-5 implementation shown in the [classroom](https://classroom.udacity.com/nanodegrees/nd013/parts/fbf77062-5703-404e-b60c-95b78b2f3f9e/modules/6df7ae49-c61c-4bb2-a23e-6527e69209ec/lessons/601ae704-1035-4287-8b11-e2c2716217ad/concepts/d4aca031-508f-4e0b-b493-e7b706120f81) at the end of the CNN lesson is a solid starting point. You'll have to change the number of classes and possibly the preprocessing, but aside from that it's plug and play!"
   ]
  },
  {
   "cell_type": "markdown",
   "metadata": {},
   "source": [
    "### Pre-process the Data Set (normalization, grayscale, etc.)"
   ]
  },
  {
   "cell_type": "markdown",
   "metadata": {},
   "source": [
    "As the distribution shows, we do not have the same number of images in each class.\n",
    "We can increase the number of images by:<br>\n",
    "<li>deformation rotation the images,</li>\n",
    "<li>changing its color, </li>\n",
    "<li> or normalizing the image, </li>\n",
    "<li> etc..</li>\n",
    "\n",
    "\n",
    "<b>NORMALIZATION OF DATA:</b> colors on a 0-255 scale => 0-1 scale\n",
    "Follows the equation normalized = (x - min( x )) / (max ( x )- min( x ))"
   ]
  },
  {
   "cell_type": "code",
   "execution_count": 7,
   "metadata": {
    "collapsed": false
   },
   "outputs": [
    {
     "name": "stdout",
     "output_type": "stream",
     "text": [
      "index 22382 is 13 or Yield \n"
     ]
    },
    {
     "data": {
      "image/png": "[encoded data removed]",
      "text/plain": [
       "<matplotlib.figure.Figure at 0xed35780>"
      ]
     },
     "metadata": {},
     "output_type": "display_data"
    }
   ],
   "source": [
    "def normalize_image(X, index):\n",
    "    X_norm = X\n",
    "    X_norm = (X - X.mean())/(np.max(X) - np.min(X))\n",
    "       \n",
    "    return X_norm[index]\n",
    "\n",
    "index=random.randint(0, n_train)\n",
    "print (\"index %s is %s or %s \"%(index,str(y_train[index]), sign_dictionary[str(y_train[index])]))\n",
    "\n",
    "plt.subplot(2,2,1)\n",
    "plt.imshow(X_train[index])\n",
    "\n",
    "plt.subplot(2,2,2)\n",
    "image_norm = normalize_image(X_train, index)\n",
    "plt.imshow(image_norm)\n",
    "\n",
    "plt.show()"
   ]
  },
  {
   "cell_type": "markdown",
   "metadata": {},
   "source": [
    "<b> ADDING IMAGES IN CLASSES WITH VERY FEW INSTANCES </b>"
   ]
  },
  {
   "cell_type": "code",
   "execution_count": 24,
   "metadata": {
    "collapsed": false
   },
   "outputs": [
    {
     "name": "stdout",
     "output_type": "stream",
     "text": [
      "Number of elements per class:\n",
      " [ 180 1980 2010 1260 1770 1650  360 1290 1260 1320 1800 1170 1890 1920  690\n",
      "  540  360  990 1080  180  300  270  330  450  240 1350  540  210  480  240\n",
      "  390  690  210  599  360 1080  330  180 1860  270  300  210  210]\n"
     ]
    }
   ],
   "source": [
    "import cv2\n",
    "\n",
    "#Rotate image\n",
    "def image_rotate(img):\n",
    "        row, col, channel = img.shape\n",
    "\n",
    "        angle = np.random.uniform(-60, 60)\n",
    "        rotation_point = (row / 2, col / 2)\n",
    "        rotation_matrix = cv2.getRotationMatrix2D(rotation_point, angle, 1)\n",
    "\n",
    "        rotated_img = cv2.warpAffine(img, rotation_matrix, (col, row))\n",
    "        return rotated_img\n",
    "\n",
    "plt.subplot(2,2,1)\n",
    "image = mpimg.imread('assets/60kmh-32x32.jpg')\n",
    "plt.imshow(image)\n",
    "plt.show\n",
    "\n",
    "plt.subplot(2,2,2)\n",
    "img_rotated = image_rotate (image)\n",
    "plt.imshow(img_rotated)\n",
    "plt.show\n",
    "\n",
    "liste= []\n",
    "arr, liste= np.unique(y_train, return_index=False, return_inverse=False, return_counts=True)\n",
    "\n",
    "#Printing the number of elements per class\n",
    "print (\"Number of elements per class:\\n\",liste)\n"
   ]
  },
  {
   "cell_type": "code",
   "execution_count": 32,
   "metadata": {
    "collapsed": false
   },
   "outputs": [
    {
     "name": "stdout",
     "output_type": "stream",
     "text": [
      "indexes for class 0 is \n",
      "\n",
      " [ 9960  9961  9962  9963  9964  9965  9966  9967  9968  9969  9970  9971\n",
      "  9972  9973  9974  9975  9976  9977  9978  9979  9980  9981  9982  9983\n",
      "  9984  9985  9986  9987  9988  9989  9990  9991  9992  9993  9994  9995\n",
      "  9996  9997  9998  9999 10000 10001 10002 10003 10004 10005 10006 10007\n",
      " 10008 10009 10010 10011 10012 10013 10014 10015 10016 10017 10018 10019\n",
      " 10020 10021 10022 10023 10024 10025 10026 10027 10028 10029 10030 10031\n",
      " 10032 10033 10034 10035 10036 10037 10038 10039 10040 10041 10042 10043\n",
      " 10044 10045 10046 10047 10048 10049 10050 10051 10052 10053 10054 10055\n",
      " 10056 10057 10058 10059 10060 10061 10062 10063 10064 10065 10066 10067\n",
      " 10068 10069 10070 10071 10072 10073 10074 10075 10076 10077 10078 10079\n",
      " 10080 10081 10082 10083 10084 10085 10086 10087 10088 10089 10090 10091\n",
      " 10092 10093 10094 10095 10096 10097 10098 10099 10100 10101 10102 10103\n",
      " 10104 10105 10106 10107 10108 10109 10110 10111 10112 10113 10114 10115\n",
      " 10116 10117 10118 10119 10120 10121 10122 10123 10124 10125 10126 10127\n",
      " 10128 10129 10130 10131 10132 10133 10134 10135 10136 10137 10138 10139]\n"
     ]
    },
    {
     "data": {
      "image/png": "[encoded data removed]",
      "text/plain": [
       "<matplotlib.figure.Figure at 0xd838ef0>"
      ]
     },
     "metadata": {},
     "output_type": "display_data"
    }
   ],
   "source": [
    "#Getting indexes of label of class 20\n",
    "expanded_labels = y_train\n",
    "searchval = 0 # 180 elements fopr this class\n",
    "ii = np.where(y_train == searchval)[0]\n",
    "print (\"indexes for class %d is \\n\\n %s\"%(searchval,ii))\n",
    "\n",
    "plt.subplot(1,1,1)\n",
    "plt.imshow(X_train[9960])\n",
    "plt.show()\n"
   ]
  },
  {
   "cell_type": "markdown",
   "metadata": {},
   "source": [
    "<b><h2>Add more data (i.e. rotated images) in each class:</h2></b>\n"
   ]
  },
  {
   "cell_type": "code",
   "execution_count": 41,
   "metadata": {
    "collapsed": false
   },
   "outputs": [
    {
     "data": {
      "image/png": "[encoded data removed]",
      "text/plain": [
       "<matplotlib.figure.Figure at 0xec50d68>"
      ]
     },
     "metadata": {},
     "output_type": "display_data"
    }
   ],
   "source": [
    "# For each class rotate the pictures as many times as filling the classes with an average number of pictures.\n",
    "# Adding rotates images for classes 19 to 36\n",
    "# Balance number of training images per class:    34799 / 43 = 809 images\n",
    "\n",
    "#Placeholder for the newly created images\n",
    "expanded_data   = np.array(np.zeros((1, 32, 32, 3)))\n",
    "expanded_labels = np.array([0])\n",
    "expanded_data = np.copy(img_rotated)\n",
    "np.append(X_train, expanded_data, axis=None )\n",
    "plt.imshow(X_train[34798])\n",
    "plt.show()"
   ]
  },
  {
   "cell_type": "markdown",
   "metadata": {},
   "source": [
    "### Split Data into Training, Validation and Test Sets"
   ]
  },
  {
   "cell_type": "code",
   "execution_count": null,
   "metadata": {
    "collapsed": false
   },
   "outputs": [],
   "source": [
    "### Split the data into training/validation/testing sets here.\n",
    "### Before splitting we shuffle the cards using scikit examples:\n",
    "## http://scikit-learn.org/stable/modules/generated/sklearn.model_selection.train_test_split.html\n",
    "## http://scikit-learn.org/stable/modules/generated/sklearn.utils.shuffle.html\n",
    "\n",
    "X_train_norm = X_train\n",
    "X_test_norm = X_test\n",
    "\n",
    "X_train_norm = (X_train - X_train.mean())/(np.max(X_train) - np.min(X_train))\n",
    "X_test_norm = (X_test - X_test.mean())/(np.max(X_test) - np.min(X_test))\n",
    "\n",
    "      \n",
    "#shuffling the Data\n",
    "X_train_norm, y_train = shuffle(X_train_norm, y_train)\n",
    "print(\"DATA SHUFFLED --\")\n",
    "\n",
    "# SPLITTING THE DATA using 20% to create the validation set\n",
    "X_train_norm, X_val, y_train, y_val = train_test_split(X_train_norm, y_train, test_size=0.2, random_state=42)\n",
    "print (\"DATA SPLIT --\")\n",
    "\n"
   ]
  },
  {
   "cell_type": "markdown",
   "metadata": {},
   "source": [
    "# Question 3 - Model Architecture: LeNET\n",
    "\n",
    "\n",
    "LeNet departs from the usual ConvNets that are organized in strict feed-forward layered architectures in which the output of one layer is fed only to the layer above (cf article, II Architecture, Multi-Scale Features).\n",
    "\n",
    "In LetNET the output of the first stage is branched out and fed to the classifier, in addition to the output of the second stage . The output of the first stage after pooling/subsampling rather than before. Additionally, applying a second subsampling\n",
    "stage on the branched output yielded higher accuracies than\n",
    "with just one\n",
    "\n",
    "ConvNet typically use 3 parts:\n",
    "a) a convolutional filter\n",
    "b) a non linear transform filter\n",
    "c) a spatial feature pooling layer to lower the resolution of the representation\n",
    "\n",
    "\n",
    "<b>Patch Size: 5x5 </b><br>\n",
    "<b>Padding = VALID </b>\n",
    "\n",
    "<b>Layer 1: </b><br>\n",
    "    a) Convolutional filter: SInce the input image is 32x32x3 and we have a kernel of 5 the output shape is 28x28x32.<br>  \n",
    "    b) Non linear transform layer-Activation layer: RELU is being used because it is computationally faster to execute (faster than sigmoid for instance) and solves some gradient issues like vanishingly small, effectively preventing the weight from changing its value. In the worst case, this may completely stop the neural network from further training (https://en.wikipedia.org/wiki/Vanishing_gradient_problem).<br>\n",
    "    c) Pooling layer to lower the resolution, the output shape is 14x14x32.<br>\n",
    "\n",
    "\n",
    "<b>Layer 2: </b><br>\n",
    "    a) Convolutional filter: The output shape is 10x10x16.<br>\n",
    "    b) Non linear transform layer-Activation layer: RELU is being used<br>\n",
    "    c) Pooling layer to lower the resolution, the output shape is 5x5x16.<br>\n",
    "\n",
    "Flatten. Flatten the output shape of the final pooling layer such that it's 1D instead of 3D. The easiest way to do is by using tf.contrib.layers.flatten.\n",
    "\n",
    "<b>Layer 3: </b><br>\n",
    "    a) Fully Connected. This should have 120 outputs.<br>\n",
    "    b) Activation. RELU<br><br>\n",
    "\n",
    "\n",
    "<b>Layer 4: </b><br>\n",
    "    a) Fully Connected. This should have 84 outputs.<br>\n",
    "    b) Activation. RELU<br>\n",
    "\n",
    "<b>Layer 5: </b><br>\n",
    "    a) Fully Connected (Logits).<br>\n",
    "    b) This should have 43 outputs.<br>\n",
    "\n"
   ]
  },
  {
   "cell_type": "markdown",
   "metadata": {},
   "source": [
    "<br>\n",
    "<img src=\"assets/kernel_convolution.jpg\">CONVOLUTION</img>\n",
    "<br><br>sources: https://adeshpande3.github.io/adeshpande3.github.io/A-Beginner's-Guide-To-Understanding-Convolutional-Neural-Networks/\n",
    "<br>\n",
    "https://developer.apple.com/library/content/documentation/Performance/Conceptual/vImage/ConvolutionOperations/ConvolutionOperations.html"
   ]
  },
  {
   "cell_type": "markdown",
   "metadata": {},
   "source": [
    "<img src=\"assets/LeNet.jpg\">LeNet Architecture</img>"
   ]
  },
  {
   "cell_type": "code",
   "execution_count": null,
   "metadata": {
    "collapsed": false
   },
   "outputs": [],
   "source": [
    "### Define your architecture here.\n",
    "### Feel free to use as many code cells as needed.\n",
    "\n",
    "EPOCHS =20\n",
    "BATCH_SIZE=256\n",
    "\n",
    "def LeNet(x):    \n",
    "    # Arguments used for tf.truncated_normal, randomly defines variables for the weights and biases for each layer\n",
    "    mu = 0\n",
    "    sigma = 0.1\n",
    "    patch_size = 5\n",
    "    channels = 3 # channels is the 3 colors depth of the image\n",
    "    filter_depth = 32 \n",
    "    drop_pool_down_sizing=0.8 # keep 80% f neurons\n",
    "\n",
    "    \n",
    " \n",
    "    # Layer 1: Convolutional. Input = 32x32x3. Output = 28x28x32. \n",
    "    # Weights are initialzed first\n",
    "    conv1_W = tf.Variable(tf.truncated_normal(shape=(patch_size, patch_size, channels, filter_depth), mean = mu, stddev = sigma))\n",
    "    # Bias is initialized to zero \n",
    "    conv1_b = tf.Variable(tf.zeros(filter_depth))\n",
    "    # conv1=XW+1\n",
    "    conv1   = tf.nn.conv2d(x, conv1_W, strides=[1, 1, 1, 1], padding='VALID') + conv1_b\n",
    "    print (\"shape of conv1-a\", conv1.get_shape().as_list())\n",
    "\n",
    "    # Activation with a RELU function to make the network non linear\n",
    "    conv1 = tf.nn.relu(conv1)\n",
    "\n",
    "    # Pooling. Input = 28x28x32. Output = 14x14x32 to reduce the size of the network\n",
    "    conv1 = tf.nn.max_pool(conv1, ksize=[1, 2, 2, 1], strides=[1, 2, 2, 1], padding='VALID')\n",
    "    conv1 = tf.nn.dropout(conv1, drop_pool_down_sizing)\n",
    "    print (\"shape of conv1-b\", conv1.get_shape().as_list())\n",
    "    \n",
    "    # Layer 2: Convolutional. Output = 10x10x32.\n",
    "    conv2_W = tf.Variable(tf.truncated_normal(shape=(patch_size, patch_size, filter_depth, 16), mean = mu, stddev = sigma))\n",
    "    conv2_b = tf.Variable(tf.zeros(16))\n",
    "    conv2   = tf.nn.conv2d(conv1, conv2_W, strides=[1, 1, 1, 1], padding='VALID') + conv2_b\n",
    "    print (\"shape of conv2-a\", conv2.get_shape().as_list())\n",
    "    \n",
    "    # Activation.\n",
    "    conv2 = tf.nn.relu(conv2)\n",
    "\n",
    "    # Pooling. Input = 10x10x16. Output = 5x5x16.\n",
    "    conv2 = tf.nn.max_pool(conv2, ksize=[1, 2, 2, 1], strides=[1, 2, 2, 1], padding='VALID')\n",
    "    print (\"shape of conv2-b\", conv2.get_shape().as_list())\n",
    "\n",
    "    # flatten. Input = 5x5x16. Output = 400.\n",
    "    fc0   = flatten(conv2)\n",
    "    print (\"shape of fc0\", fc0.get_shape().as_list())\n",
    "\n",
    "    # Layer 3: Fully Connected. Input = 400. Output = 120.\n",
    "    fc1_W = tf.Variable(tf.truncated_normal(shape=(400, 120), mean = mu, stddev = sigma))\n",
    "    fc1_b = tf.Variable(tf.zeros(120))\n",
    "    fc1   = tf.matmul(fc0, fc1_W) + fc1_b\n",
    "    print (\"shape of fc1\", fc1.get_shape().as_list())\n",
    "\n",
    "    # Activation.\n",
    "    fc1    = tf.nn.relu(fc1)\n",
    "\n",
    "    # Layer 4: Fully Connected. Input = 120. Output = 84.\n",
    "    fc2_W  = tf.Variable(tf.truncated_normal(shape=(120, 84), mean = mu, stddev = sigma))\n",
    "    fc2_b  = tf.Variable(tf.zeros(84))\n",
    "    fc2    = tf.matmul(fc1, fc2_W) + fc2_b\n",
    "    \n",
    "    # SActivation.\n",
    "    fc2    = tf.nn.relu(fc2)\n",
    "\n",
    "    # Layer 5: Fully Connected. Input = 84. Output = 43\n",
    "    fc3_W  = tf.Variable(tf.truncated_normal(shape=(84, 43), mean = mu, stddev = sigma))\n",
    "    fc3_b  = tf.Variable(tf.zeros(43))\n",
    "    logits = tf.matmul(fc2, fc3_W) + fc3_b\n",
    "    return logits"
   ]
  },
  {
   "cell_type": "markdown",
   "metadata": {},
   "source": [
    "### Train, Validate and Test the Model"
   ]
  },
  {
   "cell_type": "markdown",
   "metadata": {},
   "source": [
    "A validation set can be used to assess how well the model is performing. A low accuracy on the training and validation\n",
    "sets imply underfitting. A high accuracy on the test set but low accuracy on the validation set implies overfitting."
   ]
  },
  {
   "cell_type": "code",
   "execution_count": null,
   "metadata": {
    "collapsed": false
   },
   "outputs": [],
   "source": [
    "### Train your model here.\n",
    "### Calculate and report the accuracy on the training and validation set.\n",
    "### Once a final model architecture is selected, \n",
    "### the accuracy on the test set should be calculated and reported as well.\n",
    "### Feel free to use as many code cells as needed.\n",
    "\n",
    "# Creating a placeholder variable to hold input images, depth of 3 as we keep the three colors\n",
    "x_input = tf.placeholder(\"float\", [None, 32, 32, 3])\n",
    "\n",
    "# Creating a placeholder variable to hold labels\n",
    "y_labels = tf.placeholder(\"int32\", [None])\n",
    "\n",
    "# To one-hot encode the labels \n",
    "y_one_hot = tf.one_hot(y_labels, depth=43, on_value=1., off_value=0., axis=-1)\n",
    "\n",
    "# CONSTRUCT THE MODEL USING the LeNET model\n",
    "rate= 0.0009\n",
    "logits= LeNet(x_input)\n",
    "\n",
    "# Define loss and optimizer\n",
    "cross_entropy = tf.nn.softmax_cross_entropy_with_logits(logits=logits, labels=y_one_hot)\n",
    "loss_operation= tf.reduce_mean(cross_entropy)\n",
    "optimizer = tf.train.AdamOptimizer(learning_rate=rate)\n",
    "training_operation=optimizer.minimize(loss_operation)\n",
    "\n",
    "# Model Evaluation\n",
    "correct_prediction = tf.equal(tf.argmax(logits, 1), tf.argmax(y_one_hot, 1))\n",
    "accuracy_operation = tf.reduce_mean(tf.cast(correct_prediction, tf.float32))\n",
    "saver = tf.train.Saver()\n",
    "\n",
    "def evaluate(X_data, y_data):\n",
    "    num_examples = len(X_data)\n",
    "    total_accuracy = 0\n",
    "    sess = tf.get_default_session()\n",
    "    for offset in range(0, num_examples, BATCH_SIZE):\n",
    "        batch_x, batch_y = X_data[offset:offset+BATCH_SIZE], y_data[offset:offset+BATCH_SIZE]\n",
    "        accuracy = sess.run(accuracy_operation, feed_dict={x_input: batch_x, y_labels: batch_y})\n",
    "        total_accuracy += (accuracy * len(batch_x))\n",
    "    return total_accuracy / num_examples\n",
    "\n",
    "# Train the MODEL\n",
    "with tf.Session() as sess:\n",
    "    sess.run(tf.global_variables_initializer())\n",
    "    num_examples = len(X_train)\n",
    "    \n",
    "    print(\"Training...\")\n",
    "    print()\n",
    "    for i in range(EPOCHS):\n",
    "        X_train_norm, y_train = shuffle(X_train_norm, y_train)\n",
    "        for offset in range(0, num_examples, BATCH_SIZE):\n",
    "            end = offset + BATCH_SIZE\n",
    "            batch_x, batch_y = X_train_norm[offset:end], y_train[offset:end]\n",
    "            sess.run(training_operation, feed_dict={x_input: batch_x, y_labels: batch_y})\n",
    "            \n",
    "        validation_accuracy = evaluate(X_val, y_val)   \n",
    "        print(\"EPOCH {} ...\".format(i+1))\n",
    "        print(\"Validation Accuracy = {:.3f}\".format(validation_accuracy))\n",
    "        print()\n",
    "        \n",
    "    saver.save(sess, './lenet')\n",
    "    print(\"Model saved\")\n",
    "    "
   ]
  },
  {
   "cell_type": "markdown",
   "metadata": {},
   "source": [
    "---\n",
    "\n",
    "## Step 3: Test a Model on New Images\n",
    "\n",
    "To give yourself more insight into how your model is working, download at least five pictures of German traffic signs from the web and use your model to predict the traffic sign type.\n",
    "\n",
    "You may find `signnames.csv` useful as it contains mappings from the class id (integer) to the actual sign name."
   ]
  },
  {
   "cell_type": "markdown",
   "metadata": {},
   "source": [
    "### Load and Output the Images"
   ]
  },
  {
   "cell_type": "code",
   "execution_count": null,
   "metadata": {
    "collapsed": false
   },
   "outputs": [],
   "source": [
    "import csv\n",
    "import os\n",
    "#import cv2\n",
    "import matplotlib.pyplot as plt\n",
    "%matplotlib inline\n",
    "\n",
    "### Load the images from german_signs, display them and add them to the training set\n",
    "\n",
    "def display_sign(path):\n",
    "    image = mpimg.imread(path)\n",
    "    print('Image :', type(image), 'Dimensions:', image.shape)\n",
    "    plt.imshow(image)  \n",
    "    plt.show()\n",
    "\n",
    "#display_sign('assets/traffic.jpg')\n",
    "#display_sign('assets/60kmh-32x32.jpg')\n",
    "#display_sign('assets/nopassover-32x32.jpg')\n",
    "#display_sign('assets/130kmh.jpg')\n",
    "#display_sign('assets/nocanoe.jpg')\n",
    "#display_sign('assets/school.jpg')\n",
    "#display_sign('assets/doublecurve.jpg')\n",
    "\n",
    "test_images = []\n",
    "\n",
    "def normalize(f):\n",
    "    lmin = float(f.min())\n",
    "    lmax = float(f.max())\n",
    "    return np.floor((f-lmin)/(lmax-lmin)*255.)\n",
    "\n",
    "image = mpimg.imread('assets/60kmh-32x32.jpg')\n",
    "img = normalize (image)\n",
    "plt.imshow(img)\n",
    "plt.show\n",
    "\n",
    "test_images.append(img) #= []\n",
    "\n",
    "\"\"\"\n",
    "path = './assets/'\n",
    "plt.figure(figsize=(10,4))\n",
    "\n",
    "for image in os.listdir(path):\n",
    "    img = mpimg.imread(path + image)\n",
    "    #img = mpimg.resize(img, (32,32))\n",
    "    #img = mpimg.cvtColor(img, cv2.COLOR_BGR2RGB)\n",
    "    test_images.append(img)\n",
    "\"\"\"             \n",
    "test_images = np.array(test_images)\n",
    "#test_images = test_images/255\n",
    "\n",
    "for i in range(1):\n",
    "    plt.subplot(1,2,i+1)\n",
    "    plt.imshow(test_images[i])\n",
    "    \n",
    "plt.show() \n"
   ]
  },
  {
   "cell_type": "markdown",
   "metadata": {},
   "source": [
    "### Predict the Sign Type for Each Image"
   ]
  },
  {
   "cell_type": "code",
   "execution_count": null,
   "metadata": {
    "collapsed": false
   },
   "outputs": [],
   "source": [
    "### Run the predictions here and use the model to output the prediction for each image.\n",
    "### Make sure to pre-process the images with the same pre-processing pipeline used earlier.\n",
    "### Feel free to use as many code cells as needed.\n",
    "\n",
    "#german_labels = [1, 9]\n",
    "german_labels = [16]\n",
    "\n",
    "with tf.Session() as sess:\n",
    "    sess.run(tf.global_variables_initializer())\n",
    "    saver3 = tf.train.import_meta_graph('./lenet.meta')\n",
    "    saver3.restore(sess, \"./lenet\")\n",
    "    print(\"Model restaured successfully\")\n",
    "    #output=saver3.sess.run(saver3.logits, feed_dict={saver3.features:test_images, sess.kp: 1})\n",
    "    my_accuracy = evaluate(test_images, y_test)\n",
    "    print(\"Test Set Accuracy = {:.3f}\".format(my_accuracy))\n",
    "    \n",
    "#outputclass = np.argmax(output, axis = 1)\n",
    "\n",
    "#plt.figure(figsize=(10,4))\n",
    "\n",
    "\n",
    "#for i, image in enumerate(test_images):\n",
    "#    grid = plt.subplot(len(test_images)/4,5,i+1)\n",
    "#    grid.imshow(image), plt.axis('off')\n",
    "#    plt.title(signnames[str(outputclass[i])])\n",
    "\n",
    "#plt.show()"
   ]
  },
  {
   "cell_type": "markdown",
   "metadata": {},
   "source": [
    "### Analyze Performance"
   ]
  },
  {
   "cell_type": "code",
   "execution_count": null,
   "metadata": {
    "collapsed": true
   },
   "outputs": [],
   "source": [
    "### Calculate the accuracy for these 5 new images. \n",
    "### For example, if the model predicted 1 out of 5 signs correctly, it's 20% accurate on these new images."
   ]
  },
  {
   "cell_type": "markdown",
   "metadata": {},
   "source": [
    "### Output Top 5 Softmax Probabilities For Each Image Found on the Web"
   ]
  },
  {
   "cell_type": "markdown",
   "metadata": {},
   "source": [
    "For each of the new images, print out the model's softmax probabilities to show the **certainty** of the model's predictions (limit the output to the top 5 probabilities for each image). [`tf.nn.top_k`](https://www.tensorflow.org/versions/r0.12/api_docs/python/nn.html#top_k) could prove helpful here. \n",
    "\n",
    "The example below demonstrates how tf.nn.top_k can be used to find the top k predictions for each image.\n",
    "\n",
    "`tf.nn.top_k` will return the values and indices (class ids) of the top k predictions. So if k=3, for each sign, it'll return the 3 largest probabilities (out of a possible 43) and the correspoding class ids.\n",
    "\n",
    "Take this numpy array as an example. The values in the array represent predictions. The array contains softmax probabilities for five candidate images with six possible classes. `tk.nn.top_k` is used to choose the three classes with the highest probability:\n",
    "\n",
    "```\n",
    "# (5, 6) array\n",
    "a = np.array([[ 0.24879643,  0.07032244,  0.12641572,  0.34763842,  0.07893497,\n",
    "         0.12789202],\n",
    "       [ 0.28086119,  0.27569815,  0.08594638,  0.0178669 ,  0.18063401,\n",
    "         0.15899337],\n",
    "       [ 0.26076848,  0.23664738,  0.08020603,  0.07001922,  0.1134371 ,\n",
    "         0.23892179],\n",
    "       [ 0.11943333,  0.29198961,  0.02605103,  0.26234032,  0.1351348 ,\n",
    "         0.16505091],\n",
    "       [ 0.09561176,  0.34396535,  0.0643941 ,  0.16240774,  0.24206137,\n",
    "         0.09155967]])\n",
    "```\n",
    "\n",
    "Running it through `sess.run(tf.nn.top_k(tf.constant(a), k=3))` produces:\n",
    "\n",
    "```\n",
    "TopKV2(values=array([[ 0.34763842,  0.24879643,  0.12789202],\n",
    "       [ 0.28086119,  0.27569815,  0.18063401],\n",
    "       [ 0.26076848,  0.23892179,  0.23664738],\n",
    "       [ 0.29198961,  0.26234032,  0.16505091],\n",
    "       [ 0.34396535,  0.24206137,  0.16240774]]), indices=array([[3, 0, 5],\n",
    "       [0, 1, 4],\n",
    "       [0, 5, 1],\n",
    "       [1, 3, 5],\n",
    "       [1, 4, 3]], dtype=int32))\n",
    "```\n",
    "\n",
    "Looking just at the first row we get `[ 0.34763842,  0.24879643,  0.12789202]`, you can confirm these are the 3 largest probabilities in `a`. You'll also notice `[3, 0, 5]` are the corresponding indices."
   ]
  },
  {
   "cell_type": "code",
   "execution_count": null,
   "metadata": {
    "collapsed": true
   },
   "outputs": [],
   "source": [
    "### Print out the top five softmax probabilities for the predictions on the German traffic sign images found on the web. \n",
    "### Feel free to use as many code cells as needed."
   ]
  },
  {
   "cell_type": "markdown",
   "metadata": {},
   "source": [
    "> **Note**: Once you have completed all of the code implementations, you need to finalize your work by exporting the IPython Notebook as an HTML document. Before exporting the notebook to html, all of the code cells need to have been run. You can then export the notebook by using the menu above and navigating to  \\n\",\n",
    "    \"**File -> Download as -> HTML (.html)**. Include the finished document along with this notebook as your submission. "
   ]
  },
  {
   "cell_type": "markdown",
   "metadata": {},
   "source": [
    "### Project Writeup\n",
    "\n",
    "Once you have completed the code implementation, document your results in a project writeup using this [template](https://github.com/udacity/CarND-Traffic-Sign-Classifier-Project/blob/master/writeup_template.md) as a guide. The writeup can be in a markdown or pdf file. "
   ]
  }
 ],
 "metadata": {
  "anaconda-cloud": {},
  "kernelspec": {
   "display_name": "Python 3",
   "language": "python",
   "name": "python3"
  },
  "language_info": {
   "codemirror_mode": {
    "name": "ipython",
    "version": 3
   },
   "file_extension": ".py",
   "mimetype": "text/x-python",
   "name": "python",
   "nbconvert_exporter": "python",
   "pygments_lexer": "ipython3",
   "version": "3.6.0"
  }
 },
 "nbformat": 4,
 "nbformat_minor": 1
}
